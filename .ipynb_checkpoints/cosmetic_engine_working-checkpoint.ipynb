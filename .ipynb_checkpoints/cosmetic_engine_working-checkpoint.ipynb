{
 "cells": [
  {
   "cell_type": "code",
   "execution_count": 1,
   "metadata": {
    "collapsed": true
   },
   "outputs": [],
   "source": [
    "import os"
   ]
  },
  {
   "cell_type": "code",
   "execution_count": 6,
   "metadata": {
    "collapsed": false
   },
   "outputs": [
    {
     "name": "stdout",
     "output_type": "stream",
     "text": [
      "['000001_1.jpg', '000002_3.jpg', '000003_2.jpg', '000004_4.jpg', '000005_2.jpg', '000006_4.jpg', '000007_4.jpg', '000008_1.jpg', '000009_2.jpg', '000010_2.jpg', '000011_3.jpg', '000012_3.jpg', '000013_1.jpg', '000014_2.jpg', '000015_4.jpg', '000016_1.jpg', '000017_1.jpg', '000018_4.jpg', '000019_3.jpg', '000020_2.jpg', '000021_2.jpg', '000022_3.jpg', '000023_1.jpg', '000024_3.jpg', '000025_3.jpg', '000026_2.jpg', '000027_3.jpg', '000028_1.jpg', '000029_4.jpg', '000030_4.jpg', '000031_2.jpg', '000032_1.jpg', '000033_4.jpg', '000034_2.jpg', '000035_4.jpg', '000036_4.jpg', '000037_3.jpg', '000038_4.jpg', '000039_3.jpg', '000040_2.jpg', '000041_4.jpg', '000042_4.jpg', '000043_1.jpg', '000044_1.jpg', '000045_3.jpg', '000046_2.jpg', '000047_4.jpg', '000048_4.jpg', '000049_2.jpg', '000050_1.jpg', '000051_4.jpg', '000052_2.jpg', '000053_1.jpg', '000054_4.jpg', '000055_3.jpg', '000056_2.jpg', '000057_3.jpg', '000058_4.jpg', '000059_4.jpg', '000060_2.jpg', '000061_4.jpg', '000062_3.jpg', '000063_4.jpg', '000064_4.jpg', '000065_1.jpg', '000066_1.jpg', '000067_3.jpg', '000068_4.jpg', '000069_1.jpg', '000070_2.jpg', '000071_4.jpg', '000072_1.jpg', '000073_4.jpg', '000074_3.jpg', '000075_3.jpg', '000076_2.jpg', '000077_3.jpg', '000078_2.jpg', '000079_3.jpg', '000080_3.jpg', '000081_1.jpg', '000082_2.jpg', '000083_3.jpg', '000084_4.jpg', '000085_3.jpg', '000086_1.jpg', '000087_2.jpg', '000088_3.jpg', '000089_2.jpg', '000090_3.jpg', '000091_1.jpg', '000092_3.jpg', '000093_2.jpg', '000094_4.jpg', '000095_3.jpg', '000096_2.jpg', '000097_4.jpg', '000098_3.jpg', '000099_2.jpg', '000100_4.jpg', '000101_1.jpg', '000102_3.jpg', '000103_4.jpg', '000104_1.jpg', '000105_4.jpg', '000106_4.jpg', '000107_1.jpg', '000108_3.jpg', '000109_3.jpg', '000110_2.jpg', '000111_2.jpg', '000112_1.jpg', '000113_3.jpg', '000114_3.jpg', '000115_2.jpg', '000116_1.jpg', '000117_3.jpg', '000118_3.jpg', '000119_2.jpg', '000120_3.jpg', '000121_4.jpg', '000122_4.jpg', '000123_4.jpg', '000124_2.jpg', '000125_3.jpg', '000126_2.jpg', '000127_2.jpg', '000128_4.jpg']\n"
     ]
    }
   ],
   "source": [
    "#read all file names into a list\n",
    "pictureList = os.listdir(\"./FINAL_PICTURES/\")\n",
    "print pictureList[:]"
   ]
  },
  {
   "cell_type": "code",
   "execution_count": null,
   "metadata": {
    "collapsed": true
   },
   "outputs": [],
   "source": []
  },
  {
   "cell_type": "code",
   "execution_count": null,
   "metadata": {
    "collapsed": true
   },
   "outputs": [],
   "source": []
  }
 ],
 "metadata": {
  "kernelspec": {
   "display_name": "Python 2",
   "language": "python",
   "name": "python2"
  },
  "language_info": {
   "codemirror_mode": {
    "name": "ipython",
    "version": 2
   },
   "file_extension": ".py",
   "mimetype": "text/x-python",
   "name": "python",
   "nbconvert_exporter": "python",
   "pygments_lexer": "ipython2",
   "version": "2.7.11"
  }
 },
 "nbformat": 4,
 "nbformat_minor": 0
}
