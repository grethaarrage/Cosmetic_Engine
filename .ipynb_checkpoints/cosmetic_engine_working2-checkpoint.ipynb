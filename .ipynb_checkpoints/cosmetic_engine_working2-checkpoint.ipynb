{
 "cells": [
  {
   "cell_type": "code",
   "execution_count": 1,
   "metadata": {
    "collapsed": false
   },
   "outputs": [
    {
     "name": "stdout",
     "output_type": "stream",
     "text": [
      "['000001_1.jpg', '000002_3.jpg', '000003_2.jpg', '000004_4.jpg', '000005_2.jpg']\n",
      "128\n"
     ]
    }
   ],
   "source": [
    "%matplotlib inline\n",
    "\n",
    "import pandas as pd\n",
    "import numpy as np\n",
    "import pylab as pl\n",
    "import PIL\n",
    "from PIL import Image\n",
    "import os\n",
    "import base64\n",
    "from StringIO import StringIO\n",
    "\n",
    "from sklearn.decomposition import RandomizedPCA\n",
    "from sklearn.neighbors import KNeighborsClassifier\n",
    "\n",
    "import os\n",
    "print os.listdir(\"./FINAL_PICTURES/\")[:5] # just print first 5 images to see filename structure\n",
    "print len(os.listdir(\"./FINAL_PICTURES/\")) "
   ]
  },
  {
   "cell_type": "code",
   "execution_count": 2,
   "metadata": {
    "collapsed": true
   },
   "outputs": [],
   "source": [
    "#setup a standard image size; this will distort some images but will get everything into the same shape\n",
    "STANDARD_SIZE = (1000, 1000)\n",
    "def img_to_matrix(filename, verbose=False):\n",
    "    \"\"\"\n",
    "    takes a filename and turns it into a numpy array of RGB pixels\n",
    "    \"\"\"\n",
    "    img = PIL.Image.open(filename)\n",
    "    if verbose==True:\n",
    "        print \"changing size from %s to %s\" % (str(img.size), str(STANDARD_SIZE))\n",
    "    img = img.resize(STANDARD_SIZE)\n",
    "    img = list(img.getdata())\n",
    "    img = map(list, img)\n",
    "    img = np.array(img)\n",
    "    return img\n",
    "\n",
    "def flatten_image(img):\n",
    "    \"\"\"\n",
    "    takes in an (m, n) numpy array and flattens it \n",
    "    into an array of shape (1, m * n)\n",
    "    \"\"\"\n",
    "    s = img.shape[0] * img.shape[1]\n",
    "    img_wide = img.reshape(1, s)\n",
    "    return img_wide[0]"
   ]
  },
  {
   "cell_type": "code",
   "execution_count": 3,
   "metadata": {
    "collapsed": false
   },
   "outputs": [
    {
     "name": "stdout",
     "output_type": "stream",
     "text": [
      "['1', '3', '2', '4', '2', '4', '4', '1', '2', '2', '3', '3', '1', '2', '4', '1', '1', '4', '3', '2', '2', '3', '1', '3', '3', '2', '3', '1', '4', '4', '2', '1', '4', '2', '4', '4', '3', '4', '3', '2', '4', '4', '1', '1', '3', '2', '4', '4', '2', '1', '4', '2', '1', '4', '3', '2', '3', '4', '4', '2', '4', '3', '4', '4', '1', '1', '3', '4', '1', '2', '4', '1', '4', '3', '3', '2', '3', '2', '3', '3', '1', '2', '3', '4', '3', '1', '2', '3', '2', '3', '1', '3', '2', '4', '3', '2', '4', '3', '2', '4', '1', '3', '4', '1', '4', '4', '1', '3', '3', '2', '2', '1', '3', '3', '2', '1', '3', '3', '2', '3', '4', '4', '4', '2', '3', '2', '2', '4']\n"
     ]
    },
    {
     "ename": "AttributeError",
     "evalue": "'numpy.ndarray' object has no attribute 'toList'",
     "output_type": "error",
     "traceback": [
      "\u001b[1;31m---------------------------------------------------------------------------\u001b[0m",
      "\u001b[1;31mAttributeError\u001b[0m                            Traceback (most recent call last)",
      "\u001b[1;32m<ipython-input-3-1781b1136c1c>\u001b[0m in \u001b[0;36m<module>\u001b[1;34m()\u001b[0m\n\u001b[0;32m      9\u001b[0m     \u001b[0mimg1\u001b[0m \u001b[1;33m=\u001b[0m \u001b[0mimg_to_matrix\u001b[0m\u001b[1;33m(\u001b[0m\u001b[0mimage\u001b[0m\u001b[1;33m)\u001b[0m\u001b[1;33m\u001b[0m\u001b[0m\n\u001b[0;32m     10\u001b[0m     \u001b[0mimg\u001b[0m \u001b[1;33m=\u001b[0m \u001b[0mflatten_image\u001b[0m\u001b[1;33m(\u001b[0m\u001b[0mimg1\u001b[0m\u001b[1;33m)\u001b[0m\u001b[1;33m\u001b[0m\u001b[0m\n\u001b[1;32m---> 11\u001b[1;33m     \u001b[0mdata\u001b[0m\u001b[1;33m.\u001b[0m\u001b[0mappend\u001b[0m\u001b[1;33m(\u001b[0m\u001b[0mimg\u001b[0m\u001b[1;33m.\u001b[0m\u001b[0mtoList\u001b[0m\u001b[1;33m(\u001b[0m\u001b[1;33m)\u001b[0m\u001b[1;33m)\u001b[0m\u001b[1;33m\u001b[0m\u001b[0m\n\u001b[0m\u001b[0;32m     12\u001b[0m \u001b[0mdata\u001b[0m \u001b[1;33m=\u001b[0m \u001b[0mnp\u001b[0m\u001b[1;33m.\u001b[0m\u001b[0masarray\u001b[0m\u001b[1;33m(\u001b[0m\u001b[0mdata\u001b[0m\u001b[1;33m)\u001b[0m\u001b[1;33m\u001b[0m\u001b[0m\n\u001b[0;32m     13\u001b[0m \u001b[0mdata\u001b[0m\u001b[1;33m\u001b[0m\u001b[0m\n",
      "\u001b[1;31mAttributeError\u001b[0m: 'numpy.ndarray' object has no attribute 'toList'"
     ]
    }
   ],
   "source": [
    "# TODO PATH TO YOUR DATA\n",
    "img_dir = \"./FINAL_PICTURES/\"\n",
    "images = [img_dir+ f for f in os.listdir(img_dir)]\n",
    "labels = [l[-5:-4] for l in images]\n",
    "print labels\n",
    "\n",
    "data = []\n",
    "for image in images:\n",
    "    img1 = img_to_matrix(image)\n",
    "    img = flatten_image(img1)\n",
    "    data.append(img.tolist())\n",
    "data = np.asarray(data)\n",
    "data"
   ]
  },
  {
   "cell_type": "code",
   "execution_count": null,
   "metadata": {
    "collapsed": false
   },
   "outputs": [],
   "source": [
    "# split the images into training and testing data\n",
    "# randomly select approximately 70% of data for training\n",
    "is_train = np.random.uniform(0, 1, len(data)) <= 0.7 # this creates an array of booleans\n",
    "print len(is_train)\n",
    "print len([i for i in is_train if i==True]) # checking the number of training samples\n",
    "print len([i for i in is_train if i==False]) # checking the number of test samples\n",
    "\n",
    "for i in range(len(is_train)):\n",
    "    if is_train[i]==True:\n",
    "        trainFeatures1.append(data[i])\n",
    "        trainLabels1.append(labels[i])\n",
    "    else:\n",
    "        testFeatures1.append(data[i])\n",
    "        testLabels1.append(labels[i])\n",
    "trainFeatures = np.asarray(trainFeatures1)\n",
    "trainLabels = np.asarray(trainLabels1)\n",
    "testFeatures = np.asarray(testFeatures1)\n",
    "testLabels = np.asarray(testLabels1)\n",
    "print len(trainFeatures),len(trainLabels) # checking the number of training samples\n",
    "print len(testFeatures),len(testLabels) # checking the number of test samples\n",
    "trainFeatures"
   ]
  },
  {
   "cell_type": "code",
   "execution_count": null,
   "metadata": {
    "collapsed": false
   },
   "outputs": [],
   "source": [
    "pca = RandomizedPCA(n_components=5)\n",
    "train_x = pca.fit_transform(trainFeatures)\n",
    "test_x = pca.transform(testFeatures)"
   ]
  },
  {
   "cell_type": "code",
   "execution_count": null,
   "metadata": {
    "collapsed": true
   },
   "outputs": [],
   "source": []
  }
 ],
 "metadata": {
  "kernelspec": {
   "display_name": "Python 2",
   "language": "python",
   "name": "python2"
  },
  "language_info": {
   "codemirror_mode": {
    "name": "ipython",
    "version": 2
   },
   "file_extension": ".py",
   "mimetype": "text/x-python",
   "name": "python",
   "nbconvert_exporter": "python",
   "pygments_lexer": "ipython2",
   "version": "2.7.11"
  }
 },
 "nbformat": 4,
 "nbformat_minor": 0
}
